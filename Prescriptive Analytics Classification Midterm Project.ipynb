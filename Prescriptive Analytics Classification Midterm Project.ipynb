{
 "cells": [
  {
   "cell_type": "code",
   "execution_count": 1,
   "id": "e90ce99d",
   "metadata": {},
   "outputs": [],
   "source": [
    "# import package\n",
    "import pandas as pd\n",
    "from sklearn.model_selection import train_test_split\n",
    "from sklearn.preprocessing import StandardScaler\n",
    "from sklearn.linear_model import LogisticRegression\n",
    "from sklearn.metrics import confusion_matrix, classification_report\n",
    "import statsmodels.api as sm"
   ]
  },
  {
   "cell_type": "code",
   "execution_count": 2,
   "id": "2f37549e",
   "metadata": {},
   "outputs": [
    {
     "data": {
      "text/html": [
       "<div>\n",
       "<style scoped>\n",
       "    .dataframe tbody tr th:only-of-type {\n",
       "        vertical-align: middle;\n",
       "    }\n",
       "\n",
       "    .dataframe tbody tr th {\n",
       "        vertical-align: top;\n",
       "    }\n",
       "\n",
       "    .dataframe thead th {\n",
       "        text-align: right;\n",
       "    }\n",
       "</style>\n",
       "<table border=\"1\" class=\"dataframe\">\n",
       "  <thead>\n",
       "    <tr style=\"text-align: right;\">\n",
       "      <th></th>\n",
       "      <th>no</th>\n",
       "      <th>trans_date_trans_time</th>\n",
       "      <th>merchant</th>\n",
       "      <th>category</th>\n",
       "      <th>amt</th>\n",
       "      <th>gender</th>\n",
       "      <th>is_fraud</th>\n",
       "    </tr>\n",
       "  </thead>\n",
       "  <tbody>\n",
       "    <tr>\n",
       "      <th>0</th>\n",
       "      <td>0</td>\n",
       "      <td>6/21/2020 12:14</td>\n",
       "      <td>fraud_Kirlin and Sons</td>\n",
       "      <td>personal_care</td>\n",
       "      <td>2.86</td>\n",
       "      <td>M</td>\n",
       "      <td>0</td>\n",
       "    </tr>\n",
       "    <tr>\n",
       "      <th>1</th>\n",
       "      <td>1</td>\n",
       "      <td>6/21/2020 12:14</td>\n",
       "      <td>fraud_Sporer-Keebler</td>\n",
       "      <td>personal_care</td>\n",
       "      <td>29.84</td>\n",
       "      <td>F</td>\n",
       "      <td>0</td>\n",
       "    </tr>\n",
       "    <tr>\n",
       "      <th>2</th>\n",
       "      <td>2</td>\n",
       "      <td>6/21/2020 12:14</td>\n",
       "      <td>fraud_Swaniawski, Nitzsche and Welch</td>\n",
       "      <td>health_fitness</td>\n",
       "      <td>41.28</td>\n",
       "      <td>F</td>\n",
       "      <td>0</td>\n",
       "    </tr>\n",
       "    <tr>\n",
       "      <th>3</th>\n",
       "      <td>3</td>\n",
       "      <td>6/21/2020 12:15</td>\n",
       "      <td>fraud_Haley Group</td>\n",
       "      <td>misc_pos</td>\n",
       "      <td>60.05</td>\n",
       "      <td>M</td>\n",
       "      <td>0</td>\n",
       "    </tr>\n",
       "    <tr>\n",
       "      <th>4</th>\n",
       "      <td>4</td>\n",
       "      <td>6/21/2020 12:15</td>\n",
       "      <td>fraud_Johnston-Casper</td>\n",
       "      <td>travel</td>\n",
       "      <td>3.19</td>\n",
       "      <td>M</td>\n",
       "      <td>0</td>\n",
       "    </tr>\n",
       "    <tr>\n",
       "      <th>...</th>\n",
       "      <td>...</td>\n",
       "      <td>...</td>\n",
       "      <td>...</td>\n",
       "      <td>...</td>\n",
       "      <td>...</td>\n",
       "      <td>...</td>\n",
       "      <td>...</td>\n",
       "    </tr>\n",
       "    <tr>\n",
       "      <th>972</th>\n",
       "      <td>972</td>\n",
       "      <td>8/2/2020 22:39</td>\n",
       "      <td>fraud_Schiller, Blanda and Johnson</td>\n",
       "      <td>home</td>\n",
       "      <td>241.34</td>\n",
       "      <td>F</td>\n",
       "      <td>1</td>\n",
       "    </tr>\n",
       "    <tr>\n",
       "      <th>973</th>\n",
       "      <td>973</td>\n",
       "      <td>8/2/2020 22:50</td>\n",
       "      <td>fraud_Klocko, Runolfsdottir and Breitenberg</td>\n",
       "      <td>health_fitness</td>\n",
       "      <td>17.29</td>\n",
       "      <td>F</td>\n",
       "      <td>1</td>\n",
       "    </tr>\n",
       "    <tr>\n",
       "      <th>974</th>\n",
       "      <td>974</td>\n",
       "      <td>8/2/2020 22:57</td>\n",
       "      <td>fraud_Turner, Ziemann and Lehner</td>\n",
       "      <td>food_dining</td>\n",
       "      <td>135.12</td>\n",
       "      <td>F</td>\n",
       "      <td>1</td>\n",
       "    </tr>\n",
       "    <tr>\n",
       "      <th>975</th>\n",
       "      <td>975</td>\n",
       "      <td>8/2/2020 23:28</td>\n",
       "      <td>fraud_Rippin, Kub and Mann</td>\n",
       "      <td>misc_net</td>\n",
       "      <td>850.64</td>\n",
       "      <td>M</td>\n",
       "      <td>1</td>\n",
       "    </tr>\n",
       "    <tr>\n",
       "      <th>976</th>\n",
       "      <td>976</td>\n",
       "      <td>8/2/2020 23:33</td>\n",
       "      <td>fraud_Goyette, Howell and Collier</td>\n",
       "      <td>shopping_pos</td>\n",
       "      <td>760.17</td>\n",
       "      <td>M</td>\n",
       "      <td>1</td>\n",
       "    </tr>\n",
       "  </tbody>\n",
       "</table>\n",
       "<p>977 rows × 7 columns</p>\n",
       "</div>"
      ],
      "text/plain": [
       "      no trans_date_trans_time                                     merchant  \\\n",
       "0      0       6/21/2020 12:14                        fraud_Kirlin and Sons   \n",
       "1      1       6/21/2020 12:14                         fraud_Sporer-Keebler   \n",
       "2      2       6/21/2020 12:14         fraud_Swaniawski, Nitzsche and Welch   \n",
       "3      3       6/21/2020 12:15                            fraud_Haley Group   \n",
       "4      4       6/21/2020 12:15                        fraud_Johnston-Casper   \n",
       "..   ...                   ...                                          ...   \n",
       "972  972        8/2/2020 22:39           fraud_Schiller, Blanda and Johnson   \n",
       "973  973        8/2/2020 22:50  fraud_Klocko, Runolfsdottir and Breitenberg   \n",
       "974  974        8/2/2020 22:57             fraud_Turner, Ziemann and Lehner   \n",
       "975  975        8/2/2020 23:28                   fraud_Rippin, Kub and Mann   \n",
       "976  976        8/2/2020 23:33            fraud_Goyette, Howell and Collier   \n",
       "\n",
       "           category     amt gender  is_fraud  \n",
       "0     personal_care    2.86      M         0  \n",
       "1     personal_care   29.84      F         0  \n",
       "2    health_fitness   41.28      F         0  \n",
       "3          misc_pos   60.05      M         0  \n",
       "4            travel    3.19      M         0  \n",
       "..              ...     ...    ...       ...  \n",
       "972            home  241.34      F         1  \n",
       "973  health_fitness   17.29      F         1  \n",
       "974     food_dining  135.12      F         1  \n",
       "975        misc_net  850.64      M         1  \n",
       "976    shopping_pos  760.17      M         1  \n",
       "\n",
       "[977 rows x 7 columns]"
      ]
     },
     "execution_count": 2,
     "metadata": {},
     "output_type": "execute_result"
    }
   ],
   "source": [
    "# import data\n",
    "uts = pd.read_csv('dataset-Klasifikasi-Minicase3.csv')\n",
    "uts"
   ]
  },
  {
   "cell_type": "markdown",
   "id": "7bc770f2",
   "metadata": {},
   "source": [
    "## Data Visualization\n",
    "Melakukan visualisasi data dari fitur-fitur yang ada (minimal 3)"
   ]
  },
  {
   "cell_type": "code",
   "execution_count": 3,
   "id": "39bcadb3",
   "metadata": {},
   "outputs": [],
   "source": [
    "# Import package\n",
    "import seaborn as sns\n",
    "import matplotlib.pyplot as plt"
   ]
  },
  {
   "cell_type": "code",
   "execution_count": 5,
   "id": "6adf08ce",
   "metadata": {},
   "outputs": [
    {
     "data": {
      "image/png": "[encoded data removed]",
      "text/plain": [
       "<Figure size 640x480 with 1 Axes>"
      ]
     },
     "metadata": {},
     "output_type": "display_data"
    }
   ],
   "source": [
    "# Mencari perbandingan antara fraud dan non fraud\n",
    "uts['is_fraud'].value_counts().plot.pie(autopct='%1.1f%%', shadow=False)\n",
    "plt.title(\"Perbandingan Banyaknya Transaksi Fraud dan non-Fraud\")\n",
    "plt.show()"
   ]
  },
  {
   "cell_type": "markdown",
   "id": "4f757948",
   "metadata": {},
   "source": [
    "Melalui pie chart di atas, diketahui bahwa perbandingan antara transaksi fraud dengan non fraud cukup seimbang meskipun transaksi fraud (ditandai dengan 0 lebih banyak 2.8%) dengan perbandingan transaksi fraud (1) sebanyak 48.6% dan transaksi non-fraud (0) sebanyak 51.4%"
   ]
  },
  {
   "cell_type": "code",
   "execution_count": 4,
   "id": "7ab391af",
   "metadata": {},
   "outputs": [
    {
     "data": {
      "image/png": "[encoded data removed]",
      "text/plain": [
       "<Figure size 666.111x600 with 1 Axes>"
      ]
     },
     "metadata": {},
     "output_type": "display_data"
    }
   ],
   "source": [
    "# banyaknya transaksi fraud di tiap kategori\n",
    "p = sns.displot(data=uts, x='category', stat='percent', hue='is_fraud', height=6)\n",
    "plt.title('Banyaknya Transaksi Fraud di Setiap Kategori')\n",
    "plt.xticks(rotation=45, horizontalalignment=\"right\")\n",
    "plt.show()\n"
   ]
  },
  {
   "cell_type": "markdown",
   "id": "2e91c7d1",
   "metadata": {},
   "source": [
    "Dari distribution plot di atas, kategori dengan transaksi fraud paling sedikit adalah kategori travel, sedangkan transaksi fraud terbanyak dipegang oleh kategori shopping_net, disusul oleh grocery_net dan misc_net.\n",
    "\n",
    "Mengetahui hal ini, maka perusahaan perlu mengidentifikasi lebih lanjut terkait history transaksi setiap kategori dengan cara:\n",
    "\n",
    "1. Menerapkan SOP yang ketat\n",
    "\n",
    "2. Mengadakan pelatihan anti-fraud\n",
    "\n",
    "3. Menggunakan teknologi anti-fraud (software audit / sistem deteksi fraud)\n",
    "\n",
    "4. Mengadakan audit internal secara berkala"
   ]
  },
  {
   "cell_type": "code",
   "execution_count": 8,
   "id": "fee064bd",
   "metadata": {},
   "outputs": [
    {
     "data": {
      "image/png": "[encoded data removed]",
      "text/plain": [
       "<Figure size 800x600 with 1 Axes>"
      ]
     },
     "metadata": {},
     "output_type": "display_data"
    }
   ],
   "source": [
    "# Jumlah Uang yang Terlibat dalam transaksi masing-masing kategori\n",
    "viz2 = uts.groupby('category')['amt'].mean().sort_values(ascending=False)\n",
    "viz2\n",
    "\n",
    "# Buat plotnya\n",
    "ax = viz2.plot(kind='bar', figsize=(8,6), color=\"#96aa9a\", fontsize=13);\n",
    "ax.set_alpha(0.8)\n",
    "ax.set_title(\"Amount yang Terlibat dalam Transaksi Masing-masing Kategori\", fontsize=16, pad=30)\n",
    "ax.set_ylabel(\"Amount\", fontsize=15)\n",
    "plt.xticks(rotation=45, horizontalalignment=\"right\");\n",
    "plt.show()"
   ]
  },
  {
   "cell_type": "markdown",
   "id": "db538d52",
   "metadata": {},
   "source": [
    "Dari grafik di atas, diketahui bahwa rata-rata jumlah uang yang terlibat dalam transaksi terbanyak jatuh pada kategori shopping_net. namun, mengetahui fakta bahwa transaksi fraud terbanyak jatuh kepada kategori shopping_net, maka bisa diasumsikan bahwa jumlah uang yang digunakan dalam transaksi pada kategori shopping_net bukan uang sesungguhnya. Hal ini tentu dapat memberikan pengaruh yang kurang baik terhadap operasional perusahaan."
   ]
  },
  {
   "cell_type": "code",
   "execution_count": 74,
   "id": "0ee04cdd",
   "metadata": {},
   "outputs": [
    {
     "data": {
      "text/plain": [
       "<matplotlib.legend.Legend at 0x267548173d0>"
      ]
     },
     "execution_count": 74,
     "metadata": {},
     "output_type": "execute_result"
    },
    {
     "data": {
      "image/png": "[encoded data removed]",
      "text/plain": [
       "<Figure size 1000x600 with 1 Axes>"
      ]
     },
     "metadata": {},
     "output_type": "display_data"
    }
   ],
   "source": [
    "# Banyaknya transaksi fraud berdasarkan gender\n",
    "plt.figure(figsize=(10,6))\n",
    "ax=sns.histplot(x='gender',data=uts, hue='is_fraud',stat='percent',multiple='dodge',common_norm=False)\n",
    "ax.set_title(\"Banyaknya Transaksi Fraud Berdasarkan Gender\", fontsize=16, pad=30)\n",
    "ax.set_ylabel('Percentage')\n",
    "ax.set_xlabel('Credit Card Holder Gender')\n",
    "plt.legend(title='Keterangan', labels=['Fraud', 'Not Fraud'])"
   ]
  },
  {
   "cell_type": "markdown",
   "id": "679cd6ae",
   "metadata": {},
   "source": [
    "Melalui diagram di atas, diketahui bahwa baik transaksi fraud maupun non-fraud lebih banyak dilakukan oleh pelanggan wanita. Hal ini bisa diasumsikan bahwa peran belanja lebih sering dilakukan oleh wanita dibanding pria."
   ]
  },
  {
   "cell_type": "code",
   "execution_count": 7,
   "id": "72aea9ad",
   "metadata": {},
   "outputs": [
    {
     "name": "stderr",
     "output_type": "stream",
     "text": [
      "C:\\Users\\Acer\\AppData\\Local\\Temp\\ipykernel_14040\\4219935737.py:2: FutureWarning: \n",
      "\n",
      "The `ci` parameter is deprecated. Use `errorbar=None` for the same effect.\n",
      "\n",
      "  sns.catplot(data=uts, kind=\"bar\", x='category', y='amt', hue='gender', ci=None)\n"
     ]
    },
    {
     "data": {
      "text/plain": [
       "<Figure size 1500x1000 with 0 Axes>"
      ]
     },
     "metadata": {},
     "output_type": "display_data"
    },
    {
     "data": {
      "image/png": "[encoded data removed]",
      "text/plain": [
       "<Figure size 562x500 with 1 Axes>"
      ]
     },
     "metadata": {},
     "output_type": "display_data"
    }
   ],
   "source": [
    "plt.figure(figsize=(15,10))\n",
    "sns.catplot(data=uts, kind=\"bar\", x='category', y='amt', hue='gender', ci=None)\n",
    "plt.xlabel('Category')\n",
    "plt.ylabel('amt')\n",
    "plt.title('Banyaknya Amount per Kategori Berdasarkan Gender')\n",
    "plt.xticks(rotation=45, horizontalalignment=\"right\")\n",
    "\n",
    "plt.show()"
   ]
  },
  {
   "cell_type": "markdown",
   "id": "d9719635",
   "metadata": {},
   "source": [
    "Dari diagram di atas dapat diketahui pula bahwa amount tertinggi lebih banyak dikeluarkan oleh pelanggan pria di kategori shopping_net, dan wanita mengeluarkan amount yang paling banyak pada kategori misc_net."
   ]
  },
  {
   "cell_type": "markdown",
   "id": "0a8ccd49",
   "metadata": {},
   "source": [
    "## Data Preprocessing\n",
    "Melakukan data processing pada kolom category dan gender, kemudian melakukan one hot encoding"
   ]
  },
  {
   "cell_type": "code",
   "execution_count": 8,
   "id": "68900086",
   "metadata": {},
   "outputs": [
    {
     "name": "stdout",
     "output_type": "stream",
     "text": [
      "<class 'pandas.core.frame.DataFrame'>\n",
      "RangeIndex: 977 entries, 0 to 976\n",
      "Data columns (total 7 columns):\n",
      " #   Column                 Non-Null Count  Dtype  \n",
      "---  ------                 --------------  -----  \n",
      " 0   no                     977 non-null    int64  \n",
      " 1   trans_date_trans_time  977 non-null    object \n",
      " 2   merchant               977 non-null    object \n",
      " 3   category               977 non-null    object \n",
      " 4   amt                    977 non-null    float64\n",
      " 5   gender                 977 non-null    object \n",
      " 6   is_fraud               977 non-null    int64  \n",
      "dtypes: float64(1), int64(2), object(4)\n",
      "memory usage: 53.6+ KB\n"
     ]
    }
   ],
   "source": [
    "# lihat info data\n",
    "uts.info()"
   ]
  },
  {
   "cell_type": "code",
   "execution_count": 9,
   "id": "1a670429",
   "metadata": {},
   "outputs": [],
   "source": [
    "# Import Package\n",
    "import numpy as np\n",
    "from sklearn.preprocessing import OneHotEncoder"
   ]
  },
  {
   "cell_type": "code",
   "execution_count": 10,
   "id": "661897e7",
   "metadata": {},
   "outputs": [
    {
     "data": {
      "text/html": [
       "<div>\n",
       "<style scoped>\n",
       "    .dataframe tbody tr th:only-of-type {\n",
       "        vertical-align: middle;\n",
       "    }\n",
       "\n",
       "    .dataframe tbody tr th {\n",
       "        vertical-align: top;\n",
       "    }\n",
       "\n",
       "    .dataframe thead th {\n",
       "        text-align: right;\n",
       "    }\n",
       "</style>\n",
       "<table border=\"1\" class=\"dataframe\">\n",
       "  <thead>\n",
       "    <tr style=\"text-align: right;\">\n",
       "      <th></th>\n",
       "      <th>category_food_dining</th>\n",
       "      <th>category_gas_transport</th>\n",
       "      <th>category_grocery_net</th>\n",
       "      <th>category_grocery_pos</th>\n",
       "      <th>category_health_fitness</th>\n",
       "      <th>category_home</th>\n",
       "      <th>category_kids_pets</th>\n",
       "      <th>category_misc_net</th>\n",
       "      <th>category_misc_pos</th>\n",
       "      <th>category_personal_care</th>\n",
       "      <th>category_shopping_net</th>\n",
       "      <th>category_shopping_pos</th>\n",
       "      <th>category_travel</th>\n",
       "      <th>gender_M</th>\n",
       "    </tr>\n",
       "  </thead>\n",
       "  <tbody>\n",
       "    <tr>\n",
       "      <th>0</th>\n",
       "      <td>0</td>\n",
       "      <td>0</td>\n",
       "      <td>0</td>\n",
       "      <td>0</td>\n",
       "      <td>0</td>\n",
       "      <td>0</td>\n",
       "      <td>0</td>\n",
       "      <td>0</td>\n",
       "      <td>0</td>\n",
       "      <td>1</td>\n",
       "      <td>0</td>\n",
       "      <td>0</td>\n",
       "      <td>0</td>\n",
       "      <td>1</td>\n",
       "    </tr>\n",
       "    <tr>\n",
       "      <th>1</th>\n",
       "      <td>0</td>\n",
       "      <td>0</td>\n",
       "      <td>0</td>\n",
       "      <td>0</td>\n",
       "      <td>0</td>\n",
       "      <td>0</td>\n",
       "      <td>0</td>\n",
       "      <td>0</td>\n",
       "      <td>0</td>\n",
       "      <td>1</td>\n",
       "      <td>0</td>\n",
       "      <td>0</td>\n",
       "      <td>0</td>\n",
       "      <td>0</td>\n",
       "    </tr>\n",
       "    <tr>\n",
       "      <th>2</th>\n",
       "      <td>0</td>\n",
       "      <td>0</td>\n",
       "      <td>0</td>\n",
       "      <td>0</td>\n",
       "      <td>1</td>\n",
       "      <td>0</td>\n",
       "      <td>0</td>\n",
       "      <td>0</td>\n",
       "      <td>0</td>\n",
       "      <td>0</td>\n",
       "      <td>0</td>\n",
       "      <td>0</td>\n",
       "      <td>0</td>\n",
       "      <td>0</td>\n",
       "    </tr>\n",
       "    <tr>\n",
       "      <th>3</th>\n",
       "      <td>0</td>\n",
       "      <td>0</td>\n",
       "      <td>0</td>\n",
       "      <td>0</td>\n",
       "      <td>0</td>\n",
       "      <td>0</td>\n",
       "      <td>0</td>\n",
       "      <td>0</td>\n",
       "      <td>1</td>\n",
       "      <td>0</td>\n",
       "      <td>0</td>\n",
       "      <td>0</td>\n",
       "      <td>0</td>\n",
       "      <td>1</td>\n",
       "    </tr>\n",
       "    <tr>\n",
       "      <th>4</th>\n",
       "      <td>0</td>\n",
       "      <td>0</td>\n",
       "      <td>0</td>\n",
       "      <td>0</td>\n",
       "      <td>0</td>\n",
       "      <td>0</td>\n",
       "      <td>0</td>\n",
       "      <td>0</td>\n",
       "      <td>0</td>\n",
       "      <td>0</td>\n",
       "      <td>0</td>\n",
       "      <td>0</td>\n",
       "      <td>1</td>\n",
       "      <td>1</td>\n",
       "    </tr>\n",
       "    <tr>\n",
       "      <th>...</th>\n",
       "      <td>...</td>\n",
       "      <td>...</td>\n",
       "      <td>...</td>\n",
       "      <td>...</td>\n",
       "      <td>...</td>\n",
       "      <td>...</td>\n",
       "      <td>...</td>\n",
       "      <td>...</td>\n",
       "      <td>...</td>\n",
       "      <td>...</td>\n",
       "      <td>...</td>\n",
       "      <td>...</td>\n",
       "      <td>...</td>\n",
       "      <td>...</td>\n",
       "    </tr>\n",
       "    <tr>\n",
       "      <th>972</th>\n",
       "      <td>0</td>\n",
       "      <td>0</td>\n",
       "      <td>0</td>\n",
       "      <td>0</td>\n",
       "      <td>0</td>\n",
       "      <td>1</td>\n",
       "      <td>0</td>\n",
       "      <td>0</td>\n",
       "      <td>0</td>\n",
       "      <td>0</td>\n",
       "      <td>0</td>\n",
       "      <td>0</td>\n",
       "      <td>0</td>\n",
       "      <td>0</td>\n",
       "    </tr>\n",
       "    <tr>\n",
       "      <th>973</th>\n",
       "      <td>0</td>\n",
       "      <td>0</td>\n",
       "      <td>0</td>\n",
       "      <td>0</td>\n",
       "      <td>1</td>\n",
       "      <td>0</td>\n",
       "      <td>0</td>\n",
       "      <td>0</td>\n",
       "      <td>0</td>\n",
       "      <td>0</td>\n",
       "      <td>0</td>\n",
       "      <td>0</td>\n",
       "      <td>0</td>\n",
       "      <td>0</td>\n",
       "    </tr>\n",
       "    <tr>\n",
       "      <th>974</th>\n",
       "      <td>1</td>\n",
       "      <td>0</td>\n",
       "      <td>0</td>\n",
       "      <td>0</td>\n",
       "      <td>0</td>\n",
       "      <td>0</td>\n",
       "      <td>0</td>\n",
       "      <td>0</td>\n",
       "      <td>0</td>\n",
       "      <td>0</td>\n",
       "      <td>0</td>\n",
       "      <td>0</td>\n",
       "      <td>0</td>\n",
       "      <td>0</td>\n",
       "    </tr>\n",
       "    <tr>\n",
       "      <th>975</th>\n",
       "      <td>0</td>\n",
       "      <td>0</td>\n",
       "      <td>0</td>\n",
       "      <td>0</td>\n",
       "      <td>0</td>\n",
       "      <td>0</td>\n",
       "      <td>0</td>\n",
       "      <td>1</td>\n",
       "      <td>0</td>\n",
       "      <td>0</td>\n",
       "      <td>0</td>\n",
       "      <td>0</td>\n",
       "      <td>0</td>\n",
       "      <td>1</td>\n",
       "    </tr>\n",
       "    <tr>\n",
       "      <th>976</th>\n",
       "      <td>0</td>\n",
       "      <td>0</td>\n",
       "      <td>0</td>\n",
       "      <td>0</td>\n",
       "      <td>0</td>\n",
       "      <td>0</td>\n",
       "      <td>0</td>\n",
       "      <td>0</td>\n",
       "      <td>0</td>\n",
       "      <td>0</td>\n",
       "      <td>0</td>\n",
       "      <td>1</td>\n",
       "      <td>0</td>\n",
       "      <td>1</td>\n",
       "    </tr>\n",
       "  </tbody>\n",
       "</table>\n",
       "<p>977 rows × 14 columns</p>\n",
       "</div>"
      ],
      "text/plain": [
       "     category_food_dining  category_gas_transport  category_grocery_net  \\\n",
       "0                       0                       0                     0   \n",
       "1                       0                       0                     0   \n",
       "2                       0                       0                     0   \n",
       "3                       0                       0                     0   \n",
       "4                       0                       0                     0   \n",
       "..                    ...                     ...                   ...   \n",
       "972                     0                       0                     0   \n",
       "973                     0                       0                     0   \n",
       "974                     1                       0                     0   \n",
       "975                     0                       0                     0   \n",
       "976                     0                       0                     0   \n",
       "\n",
       "     category_grocery_pos  category_health_fitness  category_home  \\\n",
       "0                       0                        0              0   \n",
       "1                       0                        0              0   \n",
       "2                       0                        1              0   \n",
       "3                       0                        0              0   \n",
       "4                       0                        0              0   \n",
       "..                    ...                      ...            ...   \n",
       "972                     0                        0              1   \n",
       "973                     0                        1              0   \n",
       "974                     0                        0              0   \n",
       "975                     0                        0              0   \n",
       "976                     0                        0              0   \n",
       "\n",
       "     category_kids_pets  category_misc_net  category_misc_pos  \\\n",
       "0                     0                  0                  0   \n",
       "1                     0                  0                  0   \n",
       "2                     0                  0                  0   \n",
       "3                     0                  0                  1   \n",
       "4                     0                  0                  0   \n",
       "..                  ...                ...                ...   \n",
       "972                   0                  0                  0   \n",
       "973                   0                  0                  0   \n",
       "974                   0                  0                  0   \n",
       "975                   0                  1                  0   \n",
       "976                   0                  0                  0   \n",
       "\n",
       "     category_personal_care  category_shopping_net  category_shopping_pos  \\\n",
       "0                         1                      0                      0   \n",
       "1                         1                      0                      0   \n",
       "2                         0                      0                      0   \n",
       "3                         0                      0                      0   \n",
       "4                         0                      0                      0   \n",
       "..                      ...                    ...                    ...   \n",
       "972                       0                      0                      0   \n",
       "973                       0                      0                      0   \n",
       "974                       0                      0                      0   \n",
       "975                       0                      0                      0   \n",
       "976                       0                      0                      1   \n",
       "\n",
       "     category_travel  gender_M  \n",
       "0                  0         1  \n",
       "1                  0         0  \n",
       "2                  0         0  \n",
       "3                  0         1  \n",
       "4                  1         1  \n",
       "..               ...       ...  \n",
       "972                0         0  \n",
       "973                0         0  \n",
       "974                0         0  \n",
       "975                0         1  \n",
       "976                0         1  \n",
       "\n",
       "[977 rows x 14 columns]"
      ]
     },
     "execution_count": 10,
     "metadata": {},
     "output_type": "execute_result"
    }
   ],
   "source": [
    "# Melakukan One Hot Encoding dengan Pandas\n",
    "\n",
    "# Select the columns to be one-hot encoded\n",
    "columns_to_encode = ['category', 'gender']\n",
    "\n",
    "# Perform one-hot encoding on the selected columns\n",
    "encoded_columns = pd.get_dummies(uts[columns_to_encode], prefix=columns_to_encode, drop_first=True)\n",
    "encoded_columns"
   ]
  },
  {
   "cell_type": "code",
   "execution_count": 11,
   "id": "00258099",
   "metadata": {},
   "outputs": [
    {
     "data": {
      "text/html": [
       "<div>\n",
       "<style scoped>\n",
       "    .dataframe tbody tr th:only-of-type {\n",
       "        vertical-align: middle;\n",
       "    }\n",
       "\n",
       "    .dataframe tbody tr th {\n",
       "        vertical-align: top;\n",
       "    }\n",
       "\n",
       "    .dataframe thead th {\n",
       "        text-align: right;\n",
       "    }\n",
       "</style>\n",
       "<table border=\"1\" class=\"dataframe\">\n",
       "  <thead>\n",
       "    <tr style=\"text-align: right;\">\n",
       "      <th></th>\n",
       "      <th>amt</th>\n",
       "      <th>is_fraud</th>\n",
       "      <th>category_food_dining</th>\n",
       "      <th>category_gas_transport</th>\n",
       "      <th>category_grocery_net</th>\n",
       "      <th>category_grocery_pos</th>\n",
       "      <th>category_health_fitness</th>\n",
       "      <th>category_home</th>\n",
       "      <th>category_kids_pets</th>\n",
       "      <th>category_misc_net</th>\n",
       "      <th>category_misc_pos</th>\n",
       "      <th>category_personal_care</th>\n",
       "      <th>category_shopping_net</th>\n",
       "      <th>category_shopping_pos</th>\n",
       "      <th>category_travel</th>\n",
       "      <th>gender_M</th>\n",
       "    </tr>\n",
       "  </thead>\n",
       "  <tbody>\n",
       "    <tr>\n",
       "      <th>0</th>\n",
       "      <td>2.86</td>\n",
       "      <td>0</td>\n",
       "      <td>0</td>\n",
       "      <td>0</td>\n",
       "      <td>0</td>\n",
       "      <td>0</td>\n",
       "      <td>0</td>\n",
       "      <td>0</td>\n",
       "      <td>0</td>\n",
       "      <td>0</td>\n",
       "      <td>0</td>\n",
       "      <td>1</td>\n",
       "      <td>0</td>\n",
       "      <td>0</td>\n",
       "      <td>0</td>\n",
       "      <td>1</td>\n",
       "    </tr>\n",
       "    <tr>\n",
       "      <th>1</th>\n",
       "      <td>29.84</td>\n",
       "      <td>0</td>\n",
       "      <td>0</td>\n",
       "      <td>0</td>\n",
       "      <td>0</td>\n",
       "      <td>0</td>\n",
       "      <td>0</td>\n",
       "      <td>0</td>\n",
       "      <td>0</td>\n",
       "      <td>0</td>\n",
       "      <td>0</td>\n",
       "      <td>1</td>\n",
       "      <td>0</td>\n",
       "      <td>0</td>\n",
       "      <td>0</td>\n",
       "      <td>0</td>\n",
       "    </tr>\n",
       "    <tr>\n",
       "      <th>2</th>\n",
       "      <td>41.28</td>\n",
       "      <td>0</td>\n",
       "      <td>0</td>\n",
       "      <td>0</td>\n",
       "      <td>0</td>\n",
       "      <td>0</td>\n",
       "      <td>1</td>\n",
       "      <td>0</td>\n",
       "      <td>0</td>\n",
       "      <td>0</td>\n",
       "      <td>0</td>\n",
       "      <td>0</td>\n",
       "      <td>0</td>\n",
       "      <td>0</td>\n",
       "      <td>0</td>\n",
       "      <td>0</td>\n",
       "    </tr>\n",
       "    <tr>\n",
       "      <th>3</th>\n",
       "      <td>60.05</td>\n",
       "      <td>0</td>\n",
       "      <td>0</td>\n",
       "      <td>0</td>\n",
       "      <td>0</td>\n",
       "      <td>0</td>\n",
       "      <td>0</td>\n",
       "      <td>0</td>\n",
       "      <td>0</td>\n",
       "      <td>0</td>\n",
       "      <td>1</td>\n",
       "      <td>0</td>\n",
       "      <td>0</td>\n",
       "      <td>0</td>\n",
       "      <td>0</td>\n",
       "      <td>1</td>\n",
       "    </tr>\n",
       "    <tr>\n",
       "      <th>4</th>\n",
       "      <td>3.19</td>\n",
       "      <td>0</td>\n",
       "      <td>0</td>\n",
       "      <td>0</td>\n",
       "      <td>0</td>\n",
       "      <td>0</td>\n",
       "      <td>0</td>\n",
       "      <td>0</td>\n",
       "      <td>0</td>\n",
       "      <td>0</td>\n",
       "      <td>0</td>\n",
       "      <td>0</td>\n",
       "      <td>0</td>\n",
       "      <td>0</td>\n",
       "      <td>1</td>\n",
       "      <td>1</td>\n",
       "    </tr>\n",
       "  </tbody>\n",
       "</table>\n",
       "</div>"
      ],
      "text/plain": [
       "     amt  is_fraud  category_food_dining  category_gas_transport  \\\n",
       "0   2.86         0                     0                       0   \n",
       "1  29.84         0                     0                       0   \n",
       "2  41.28         0                     0                       0   \n",
       "3  60.05         0                     0                       0   \n",
       "4   3.19         0                     0                       0   \n",
       "\n",
       "   category_grocery_net  category_grocery_pos  category_health_fitness  \\\n",
       "0                     0                     0                        0   \n",
       "1                     0                     0                        0   \n",
       "2                     0                     0                        1   \n",
       "3                     0                     0                        0   \n",
       "4                     0                     0                        0   \n",
       "\n",
       "   category_home  category_kids_pets  category_misc_net  category_misc_pos  \\\n",
       "0              0                   0                  0                  0   \n",
       "1              0                   0                  0                  0   \n",
       "2              0                   0                  0                  0   \n",
       "3              0                   0                  0                  1   \n",
       "4              0                   0                  0                  0   \n",
       "\n",
       "   category_personal_care  category_shopping_net  category_shopping_pos  \\\n",
       "0                       1                      0                      0   \n",
       "1                       1                      0                      0   \n",
       "2                       0                      0                      0   \n",
       "3                       0                      0                      0   \n",
       "4                       0                      0                      0   \n",
       "\n",
       "   category_travel  gender_M  \n",
       "0                0         1  \n",
       "1                0         0  \n",
       "2                0         0  \n",
       "3                0         1  \n",
       "4                1         1  "
      ]
     },
     "execution_count": 11,
     "metadata": {},
     "output_type": "execute_result"
    }
   ],
   "source": [
    "# menggabungkan encoded_columns ke dataframe awal\n",
    "uts1 = pd.concat([uts[['amt','is_fraud']], encoded_columns], axis=1)\n",
    "\n",
    "uts1.head()"
   ]
  },
  {
   "cell_type": "markdown",
   "id": "3125d124",
   "metadata": {},
   "source": [
    "## Train Test Data"
   ]
  },
  {
   "cell_type": "code",
   "execution_count": 12,
   "id": "2ee54b9b",
   "metadata": {},
   "outputs": [
    {
     "name": "stdout",
     "output_type": "stream",
     "text": [
      "X Train :  781\n",
      "y Train :  781\n",
      "X Test :  196\n",
      "t Test :  196\n"
     ]
    }
   ],
   "source": [
    "# Memisahkan fitur dan target\n",
    "\n",
    "X = uts1.drop(\"is_fraud\", axis=1)\n",
    "y = uts1[\"is_fraud\"]\n",
    "\n",
    "# Membagi data menjadi data latih dan data uji\n",
    "X_train, X_test, y_train, y_test = train_test_split(X, y, test_size=0.2, random_state=42)\n",
    "\n",
    "print(\"X Train : \", len(X_train))\n",
    "print(\"y Train : \", len(y_train))\n",
    "print(\"X Test : \", len(X_test))\n",
    "print(\"t Test : \", len(y_test))"
   ]
  },
  {
   "cell_type": "code",
   "execution_count": 13,
   "id": "61ef8bec",
   "metadata": {},
   "outputs": [],
   "source": [
    "Input = sm.add_constant(X_test)"
   ]
  },
  {
   "cell_type": "code",
   "execution_count": 14,
   "id": "cfc41ed2",
   "metadata": {},
   "outputs": [
    {
     "name": "stdout",
     "output_type": "stream",
     "text": [
      "Warning: Maximum number of iterations has been exceeded.\n",
      "         Current function value: 0.261592\n",
      "         Iterations: 35\n",
      "                                    Results: Logit\n",
      "======================================================================================\n",
      "Model:                     Logit                   Method:                  MLE       \n",
      "Dependent Variable:        is_fraud                Pseudo R-squared:        0.622     \n",
      "Date:                      2023-10-11 20:28        AIC:                     134.5440  \n",
      "No. Observations:          196                     BIC:                     186.9938  \n",
      "Df Model:                  15                      Log-Likelihood:          -51.272   \n",
      "Df Residuals:              180                     LL-Null:                 -135.82   \n",
      "Converged:                 0.0000                  LLR p-value:             3.7256e-28\n",
      "No. Iterations:            35.0000                 Scale:                   1.0000    \n",
      "--------------------------------------------------------------------------------------\n",
      "                         Coef.    Std.Err.      z    P>|z|      [0.025       0.975]   \n",
      "--------------------------------------------------------------------------------------\n",
      "const                   -4.1889       1.6901 -2.4785 0.0132       -7.5015      -0.8764\n",
      "amt                      0.0138       0.0032  4.3785 0.0000        0.0076       0.0200\n",
      "category_food_dining     2.7009       1.7227  1.5678 0.1169       -0.6755       6.0773\n",
      "category_gas_transport  30.5034  143837.0021  0.0002 0.9998  -281884.8405  281945.8472\n",
      "category_grocery_net    34.6890 2292395.1254  0.0000 1.0000 -4492977.1952 4493046.5733\n",
      "category_grocery_pos     3.9253       1.8170  2.1604 0.0307        0.3641       7.4864\n",
      "category_health_fitness  2.1760       1.7345  1.2545 0.2096       -1.2235       5.5755\n",
      "category_home            1.4614       1.7108  0.8542 0.3930       -1.8916       4.8144\n",
      "category_kids_pets       2.1069       1.7048  1.2359 0.2165       -1.2344       5.4482\n",
      "category_misc_net       15.4086   13174.8107  0.0012 0.9991   -25806.7459   25837.5632\n",
      "category_misc_pos        3.2971       1.8114  1.8201 0.0687       -0.2533       6.8474\n",
      "category_personal_care   2.5358       1.7618  1.4393 0.1501       -0.9172       5.9889\n",
      "category_shopping_net   -4.2126       2.9385 -1.4336 0.1517       -9.9719       1.5468\n",
      "category_shopping_pos   -1.2423       3.6073 -0.3444 0.7305       -8.3125       5.8278\n",
      "category_travel          3.4516       1.8997  1.8170 0.0692       -0.2716       7.1749\n",
      "gender_M                -1.0023       0.6022 -1.6645 0.0960       -2.1826       0.1779\n",
      "======================================================================================\n",
      "\n"
     ]
    },
    {
     "name": "stderr",
     "output_type": "stream",
     "text": [
      "C:\\Users\\Acer\\anaconda3\\lib\\site-packages\\statsmodels\\base\\model.py:607: ConvergenceWarning: Maximum Likelihood optimization failed to converge. Check mle_retvals\n",
      "  warnings.warn(\"Maximum Likelihood optimization failed to \"\n"
     ]
    }
   ],
   "source": [
    "model = sm.Logit(y_test, Input)\n",
    "result = model.fit()\n",
    "print(result.summary2())"
   ]
  },
  {
   "cell_type": "code",
   "execution_count": 26,
   "id": "2b207715",
   "metadata": {
    "scrolled": true
   },
   "outputs": [
    {
     "name": "stderr",
     "output_type": "stream",
     "text": [
      "C:\\Users\\Acer\\anaconda3\\lib\\site-packages\\sklearn\\linear_model\\_logistic.py:458: ConvergenceWarning: lbfgs failed to converge (status=1):\n",
      "STOP: TOTAL NO. of ITERATIONS REACHED LIMIT.\n",
      "\n",
      "Increase the number of iterations (max_iter) or scale the data as shown in:\n",
      "    https://scikit-learn.org/stable/modules/preprocessing.html\n",
      "Please also refer to the documentation for alternative solver options:\n",
      "    https://scikit-learn.org/stable/modules/linear_model.html#logistic-regression\n",
      "  n_iter_i = _check_optimize_result(\n"
     ]
    },
    {
     "data": {
      "text/html": [
       "<style>#sk-container-id-2 {color: black;background-color: white;}#sk-container-id-2 pre{padding: 0;}#sk-container-id-2 div.sk-toggleable {background-color: white;}#sk-container-id-2 label.sk-toggleable__label {cursor: pointer;display: block;width: 100%;margin-bottom: 0;padding: 0.3em;box-sizing: border-box;text-align: center;}#sk-container-id-2 label.sk-toggleable__label-arrow:before {content: \"▸\";float: left;margin-right: 0.25em;color: #696969;}#sk-container-id-2 label.sk-toggleable__label-arrow:hover:before {color: black;}#sk-container-id-2 div.sk-estimator:hover label.sk-toggleable__label-arrow:before {color: black;}#sk-container-id-2 div.sk-toggleable__content {max-height: 0;max-width: 0;overflow: hidden;text-align: left;background-color: #f0f8ff;}#sk-container-id-2 div.sk-toggleable__content pre {margin: 0.2em;color: black;border-radius: 0.25em;background-color: #f0f8ff;}#sk-container-id-2 input.sk-toggleable__control:checked~div.sk-toggleable__content {max-height: 200px;max-width: 100%;overflow: auto;}#sk-container-id-2 input.sk-toggleable__control:checked~label.sk-toggleable__label-arrow:before {content: \"▾\";}#sk-container-id-2 div.sk-estimator input.sk-toggleable__control:checked~label.sk-toggleable__label {background-color: #d4ebff;}#sk-container-id-2 div.sk-label input.sk-toggleable__control:checked~label.sk-toggleable__label {background-color: #d4ebff;}#sk-container-id-2 input.sk-hidden--visually {border: 0;clip: rect(1px 1px 1px 1px);clip: rect(1px, 1px, 1px, 1px);height: 1px;margin: -1px;overflow: hidden;padding: 0;position: absolute;width: 1px;}#sk-container-id-2 div.sk-estimator {font-family: monospace;background-color: #f0f8ff;border: 1px dotted black;border-radius: 0.25em;box-sizing: border-box;margin-bottom: 0.5em;}#sk-container-id-2 div.sk-estimator:hover {background-color: #d4ebff;}#sk-container-id-2 div.sk-parallel-item::after {content: \"\";width: 100%;border-bottom: 1px solid gray;flex-grow: 1;}#sk-container-id-2 div.sk-label:hover label.sk-toggleable__label {background-color: #d4ebff;}#sk-container-id-2 div.sk-serial::before {content: \"\";position: absolute;border-left: 1px solid gray;box-sizing: border-box;top: 0;bottom: 0;left: 50%;z-index: 0;}#sk-container-id-2 div.sk-serial {display: flex;flex-direction: column;align-items: center;background-color: white;padding-right: 0.2em;padding-left: 0.2em;position: relative;}#sk-container-id-2 div.sk-item {position: relative;z-index: 1;}#sk-container-id-2 div.sk-parallel {display: flex;align-items: stretch;justify-content: center;background-color: white;position: relative;}#sk-container-id-2 div.sk-item::before, #sk-container-id-2 div.sk-parallel-item::before {content: \"\";position: absolute;border-left: 1px solid gray;box-sizing: border-box;top: 0;bottom: 0;left: 50%;z-index: -1;}#sk-container-id-2 div.sk-parallel-item {display: flex;flex-direction: column;z-index: 1;position: relative;background-color: white;}#sk-container-id-2 div.sk-parallel-item:first-child::after {align-self: flex-end;width: 50%;}#sk-container-id-2 div.sk-parallel-item:last-child::after {align-self: flex-start;width: 50%;}#sk-container-id-2 div.sk-parallel-item:only-child::after {width: 0;}#sk-container-id-2 div.sk-dashed-wrapped {border: 1px dashed gray;margin: 0 0.4em 0.5em 0.4em;box-sizing: border-box;padding-bottom: 0.4em;background-color: white;}#sk-container-id-2 div.sk-label label {font-family: monospace;font-weight: bold;display: inline-block;line-height: 1.2em;}#sk-container-id-2 div.sk-label-container {text-align: center;}#sk-container-id-2 div.sk-container {/* jupyter's `normalize.less` sets `[hidden] { display: none; }` but bootstrap.min.css set `[hidden] { display: none !important; }` so we also need the `!important` here to be able to override the default hidden behavior on the sphinx rendered scikit-learn.org. See: https://github.com/scikit-learn/scikit-learn/issues/21755 */display: inline-block !important;position: relative;}#sk-container-id-2 div.sk-text-repr-fallback {display: none;}</style><div id=\"sk-container-id-2\" class=\"sk-top-container\"><div class=\"sk-text-repr-fallback\"><pre>LogisticRegression()</pre><b>In a Jupyter environment, please rerun this cell to show the HTML representation or trust the notebook. <br />On GitHub, the HTML representation is unable to render, please try loading this page with nbviewer.org.</b></div><div class=\"sk-container\" hidden><div class=\"sk-item\"><div class=\"sk-estimator sk-toggleable\"><input class=\"sk-toggleable__control sk-hidden--visually\" id=\"sk-estimator-id-2\" type=\"checkbox\" checked><label for=\"sk-estimator-id-2\" class=\"sk-toggleable__label sk-toggleable__label-arrow\">LogisticRegression</label><div class=\"sk-toggleable__content\"><pre>LogisticRegression()</pre></div></div></div></div></div>"
      ],
      "text/plain": [
       "LogisticRegression()"
      ]
     },
     "execution_count": 26,
     "metadata": {},
     "output_type": "execute_result"
    }
   ],
   "source": [
    "# Membangun model regresi logistik\n",
    "model = LogisticRegression()\n",
    "model.fit(X_train, y_train)"
   ]
  },
  {
   "cell_type": "code",
   "execution_count": 29,
   "id": "faa56263",
   "metadata": {},
   "outputs": [
    {
     "name": "stdout",
     "output_type": "stream",
     "text": [
      "<class 'pandas.core.frame.DataFrame'>\n",
      "RangeIndex: 977 entries, 0 to 976\n",
      "Data columns (total 7 columns):\n",
      " #   Column                 Non-Null Count  Dtype  \n",
      "---  ------                 --------------  -----  \n",
      " 0   no                     977 non-null    int64  \n",
      " 1   trans_date_trans_time  977 non-null    object \n",
      " 2   merchant               977 non-null    object \n",
      " 3   category               977 non-null    object \n",
      " 4   amt                    977 non-null    float64\n",
      " 5   gender                 977 non-null    object \n",
      " 6   is_fraud               977 non-null    int64  \n",
      "dtypes: float64(1), int64(2), object(4)\n",
      "memory usage: 53.6+ KB\n"
     ]
    }
   ],
   "source": [
    "uts.info()"
   ]
  },
  {
   "cell_type": "code",
   "execution_count": 32,
   "id": "8f572a9b",
   "metadata": {},
   "outputs": [
    {
     "data": {
      "text/plain": [
       "array([0, 0, 0, 1, 0, 0, 1, 1, 1, 0, 1, 0, 1, 0, 0, 0, 0, 1, 1, 1, 0, 0,\n",
       "       1, 0, 0, 1, 1, 1, 0, 0, 0, 0, 1, 0, 0, 0, 1, 1, 1, 1, 0, 0, 0, 0,\n",
       "       0, 1, 1, 0, 0, 0, 1, 1, 0, 1, 0, 0, 1, 0, 1, 0, 0, 0, 0, 1, 1, 1,\n",
       "       1, 0, 0, 1, 0, 0, 0, 1, 1, 0, 1, 0, 0, 0, 0, 0, 0, 1, 1, 0, 0, 0,\n",
       "       0, 0, 0, 0, 0, 0, 0, 1, 0, 0, 1, 0, 1, 0, 1, 1, 0, 1, 0, 0, 0, 0,\n",
       "       0, 0, 0, 0, 0, 1, 0, 0, 1, 1, 0, 0, 1, 0, 1, 1, 0, 0, 1, 0, 1, 1,\n",
       "       0, 0, 0, 0, 1, 0, 1, 0, 0, 0, 0, 0, 0, 0, 1, 0, 1, 1, 0, 0, 1, 1,\n",
       "       0, 0, 0, 0, 0, 0, 1, 1, 0, 0, 0, 0, 0, 0, 0, 0, 1, 1, 1, 0, 1, 1,\n",
       "       0, 0, 1, 1, 1, 1, 1, 1, 0, 1, 1, 0, 1, 0, 0, 0, 1, 1, 1, 0],\n",
       "      dtype=int64)"
      ]
     },
     "execution_count": 32,
     "metadata": {},
     "output_type": "execute_result"
    }
   ],
   "source": [
    "# Prediksi pada data uji\n",
    "predictions = model.predict(X_test)\n",
    "predictions"
   ]
  },
  {
   "cell_type": "code",
   "execution_count": 37,
   "id": "4ae6d6a6",
   "metadata": {},
   "outputs": [
    {
     "data": {
      "text/html": [
       "<div>\n",
       "<style scoped>\n",
       "    .dataframe tbody tr th:only-of-type {\n",
       "        vertical-align: middle;\n",
       "    }\n",
       "\n",
       "    .dataframe tbody tr th {\n",
       "        vertical-align: top;\n",
       "    }\n",
       "\n",
       "    .dataframe thead th {\n",
       "        text-align: right;\n",
       "    }\n",
       "</style>\n",
       "<table border=\"1\" class=\"dataframe\">\n",
       "  <thead>\n",
       "    <tr style=\"text-align: right;\">\n",
       "      <th></th>\n",
       "      <th>logreg_pred</th>\n",
       "      <th>prediksi</th>\n",
       "      <th>actual</th>\n",
       "    </tr>\n",
       "  </thead>\n",
       "  <tbody>\n",
       "    <tr>\n",
       "      <th>0</th>\n",
       "      <td>0</td>\n",
       "      <td>0</td>\n",
       "      <td>0.0</td>\n",
       "    </tr>\n",
       "    <tr>\n",
       "      <th>1</th>\n",
       "      <td>0</td>\n",
       "      <td>0</td>\n",
       "      <td>0.0</td>\n",
       "    </tr>\n",
       "    <tr>\n",
       "      <th>2</th>\n",
       "      <td>0</td>\n",
       "      <td>0</td>\n",
       "      <td>0.0</td>\n",
       "    </tr>\n",
       "    <tr>\n",
       "      <th>3</th>\n",
       "      <td>1</td>\n",
       "      <td>1</td>\n",
       "      <td>0.0</td>\n",
       "    </tr>\n",
       "    <tr>\n",
       "      <th>4</th>\n",
       "      <td>0</td>\n",
       "      <td>0</td>\n",
       "      <td>0.0</td>\n",
       "    </tr>\n",
       "    <tr>\n",
       "      <th>...</th>\n",
       "      <td>...</td>\n",
       "      <td>...</td>\n",
       "      <td>...</td>\n",
       "    </tr>\n",
       "    <tr>\n",
       "      <th>191</th>\n",
       "      <td>0</td>\n",
       "      <td>0</td>\n",
       "      <td>0.0</td>\n",
       "    </tr>\n",
       "    <tr>\n",
       "      <th>192</th>\n",
       "      <td>1</td>\n",
       "      <td>1</td>\n",
       "      <td>0.0</td>\n",
       "    </tr>\n",
       "    <tr>\n",
       "      <th>193</th>\n",
       "      <td>1</td>\n",
       "      <td>1</td>\n",
       "      <td>0.0</td>\n",
       "    </tr>\n",
       "    <tr>\n",
       "      <th>194</th>\n",
       "      <td>1</td>\n",
       "      <td>1</td>\n",
       "      <td>0.0</td>\n",
       "    </tr>\n",
       "    <tr>\n",
       "      <th>195</th>\n",
       "      <td>0</td>\n",
       "      <td>0</td>\n",
       "      <td>0.0</td>\n",
       "    </tr>\n",
       "  </tbody>\n",
       "</table>\n",
       "<p>196 rows × 3 columns</p>\n",
       "</div>"
      ],
      "text/plain": [
       "     logreg_pred  prediksi  actual\n",
       "0              0         0     0.0\n",
       "1              0         0     0.0\n",
       "2              0         0     0.0\n",
       "3              1         1     0.0\n",
       "4              0         0     0.0\n",
       "..           ...       ...     ...\n",
       "191            0         0     0.0\n",
       "192            1         1     0.0\n",
       "193            1         1     0.0\n",
       "194            1         1     0.0\n",
       "195            0         0     0.0\n",
       "\n",
       "[196 rows x 3 columns]"
      ]
     },
     "execution_count": 37,
     "metadata": {},
     "output_type": "execute_result"
    }
   ],
   "source": [
    "pred_results = pd.DataFrame(predictions, columns = [\"logreg_pred\"])\n",
    "pred_results[\"prediksi\"] = pred_results['logreg_pred'].apply(lambda x: 1 if x > 0.5 else 0)\n",
    "pred_results['actual'] = y_train\n",
    "pred_results"
   ]
  },
  {
   "cell_type": "markdown",
   "id": "8453c807",
   "metadata": {},
   "source": [
    "#### Langkah-langkah Pelatihan Regresi Logistik:\n",
    "Berikut ini merupakan pengimplementasian pelatihan regresi logistik:\n",
    "1. Melakukan data preprocessing dengan melakukan One Hot Encoding pada kolom 'gender' dan 'category'\n",
    "2. Melakukan Train test untuk melatih algoritma dan mengetahui performa algoritma yang sudah dilatih sebelumnya ketika menemukan data baru yang belum pernah dilihat sebelumnya"
   ]
  },
  {
   "cell_type": "markdown",
   "id": "8aaa2718",
   "metadata": {},
   "source": [
    "## Evaluasi Model\n",
    "Menggunakan Confusion Matrix"
   ]
  },
  {
   "cell_type": "code",
   "execution_count": 44,
   "id": "215e6739",
   "metadata": {},
   "outputs": [],
   "source": [
    "# Instantiate model with 100 decision trees\n",
    "rf = RandomForestClassifier(n_estimators = 100, random_state = 42)\n",
    "rf.fit(X_train, y_train)\n",
    "\n",
    "# Predicting the Test set results\n",
    "y_pred = rf.predict(X_test)"
   ]
  },
  {
   "cell_type": "code",
   "execution_count": 45,
   "id": "b6cc4c33",
   "metadata": {},
   "outputs": [
    {
     "name": "stdout",
     "output_type": "stream",
     "text": [
      "Accuracy on training data :  1.0\n"
     ]
    }
   ],
   "source": [
    "#akurasi train data\n",
    "X_pred = rf.predict(X_train)\n",
    "training_data_accuracy = accuracy_score(X_pred,y_train)\n",
    "print('Accuracy on training data : ', training_data_accuracy)"
   ]
  },
  {
   "cell_type": "markdown",
   "id": "dc242847",
   "metadata": {},
   "source": [
    "### Membuat Confusion Matrix"
   ]
  },
  {
   "cell_type": "code",
   "execution_count": 51,
   "id": "1e35b88b",
   "metadata": {},
   "outputs": [
    {
     "name": "stdout",
     "output_type": "stream",
     "text": [
      "[[94  6]\n",
      " [ 7 89]]\n"
     ]
    }
   ],
   "source": [
    "# Import library\n",
    "from sklearn.metrics import confusion_matrix\n",
    "\n",
    "# Create confusion matrix\n",
    "matrix = confusion_matrix(y_test, y_pred)\n",
    "report = classification_report(y_test, predictions)\n",
    "# Print confusion matrix\n",
    "print(matrix)"
   ]
  },
  {
   "cell_type": "code",
   "execution_count": 52,
   "id": "601386d6",
   "metadata": {},
   "outputs": [
    {
     "name": "stdout",
     "output_type": "stream",
     "text": [
      "Accuracy on test data :  0.9336734693877551\n"
     ]
    }
   ],
   "source": [
    "#akurasi test data\n",
    "test_data_accuracy = accuracy_score(y_pred,y_test)\n",
    "print('Accuracy on test data : ', test_data_accuracy)"
   ]
  },
  {
   "cell_type": "code",
   "execution_count": 53,
   "id": "b4ed4657",
   "metadata": {},
   "outputs": [
    {
     "name": "stdout",
     "output_type": "stream",
     "text": [
      "Confusion Matrix:\n",
      " [[94  6]\n",
      " [ 7 89]]\n",
      "\n",
      "Classification Report:\n",
      "               precision    recall  f1-score   support\n",
      "\n",
      "           0       0.82      0.98      0.89       100\n",
      "           1       0.97      0.77      0.86        96\n",
      "\n",
      "    accuracy                           0.88       196\n",
      "   macro avg       0.90      0.88      0.88       196\n",
      "weighted avg       0.89      0.88      0.88       196\n",
      "\n"
     ]
    }
   ],
   "source": [
    "# Menampilkan hasil dari Confusion Matrix\n",
    "print(\"Confusion Matrix:\\n\", matrix)\n",
    "print(\"\\nClassification Report:\\n\", report)"
   ]
  },
  {
   "cell_type": "markdown",
   "id": "5f7fbec4",
   "metadata": {},
   "source": [
    "Confusion Matrix adalah sebuah metode evaluasi kinerja model klasifikasi yang digunakan untuk mengukur seberapa akurat model tersebut dalam memprediksi kelas target. Confusion Matrix menampilkan jumlah data yang diklasifikasikan dengan benar dan salah ke dalam masing-masing kelas target. Confusion Matrix terdiri dari empat elemen, yaitu True Positive (TP), True Negative (TN), False Positive (FP), dan False Negative (FN). Dengan menggunakan Confusion Matrix, kita dapat menghitung beberapa metrik evaluasi seperti akurasi, presisi, recall, dan F1-score. Berikut adalah penjelasan singkat mengenai masing-masing metrik evaluasi:\n",
    "\n",
    "- **Akurasi**: Akurasi adalah rasio antara jumlah data yang diklasifikasikan dengan benar dan jumlah total data.\n",
    "- **Presisi**: Presisi adalah rasio antara jumlah data positif yang diklasifikasikan dengan benar dan jumlah total data positif yang diklasifikasikan.\n",
    "- **Recall**: Recall adalah rasio antara jumlah data positif yang diklasifikasikan dengan benar dan jumlah total data positif.\n",
    "- **F1-score**: F1-score adalah harmonic mean dari presisi dan recall.\n",
    "\n",
    "Dengan menggunakan Confusion Matrix dan metrik evaluasi yang sesuai, kita dapat mengukur kinerja model secara objektif dan memperbaiki model jika diperlukan. Melihat hasil dari confusion matrix di atas, seluruh matrix evaluasi mendekati 1, artinya, model yang digunakan memiliki kinerja yang sangat baik dalam memprediksi kelas target"
   ]
  },
  {
   "cell_type": "markdown",
   "id": "d86206b8",
   "metadata": {},
   "source": [
    "## Interpretasi Hasil"
   ]
  },
  {
   "cell_type": "markdown",
   "id": "f324d327",
   "metadata": {},
   "source": [
    "#### Interpretasi Koefisien"
   ]
  },
  {
   "cell_type": "code",
   "execution_count": 56,
   "id": "84d40615",
   "metadata": {},
   "outputs": [
    {
     "name": "stdout",
     "output_type": "stream",
     "text": [
      "[[ 0.00768087 -0.12714647  3.73304964  2.14048474  2.98478781 -0.44588225\n",
      "  -0.70698875 -0.73359748  0.01736994  0.60030009 -0.23463487 -1.4457612\n",
      "  -1.60775164  0.42351679 -1.01757921]]\n"
     ]
    }
   ],
   "source": [
    "# Mendapatkan Koefisien dari Model Regresi Logistik\n",
    "coefficients = model.coef_\n",
    "\n",
    "# Print the coefficients\n",
    "print(coefficients)"
   ]
  },
  {
   "cell_type": "code",
   "execution_count": 57,
   "id": "1b862b24",
   "metadata": {},
   "outputs": [
    {
     "name": "stdout",
     "output_type": "stream",
     "text": [
      "                         Koefisien\n",
      "amt                       0.007681\n",
      "category_food_dining     -0.127146\n",
      "category_gas_transport    3.733050\n",
      "category_grocery_net      2.140485\n",
      "category_grocery_pos      2.984788\n",
      "category_health_fitness  -0.445882\n",
      "category_home            -0.706989\n",
      "category_kids_pets       -0.733597\n",
      "category_misc_net         0.017370\n",
      "category_misc_pos         0.600300\n",
      "category_personal_care   -0.234635\n",
      "category_shopping_net    -1.445761\n",
      "category_shopping_pos    -1.607752\n",
      "category_travel           0.423517\n",
      "gender_M                 -1.017579\n"
     ]
    }
   ],
   "source": [
    "# Melihat Koefisien Per Kolom Dataframe awal\n",
    "koefisien_uts = pd.DataFrame(coef, index=X.columns, columns=[\"Koefisien\"])\n",
    "\n",
    "print(koefisien_uts)"
   ]
  },
  {
   "cell_type": "markdown",
   "id": "e986ccb1",
   "metadata": {},
   "source": [
    "Koefisien dari model regresi logistik menunjukkan seberapa besar pengaruh setiap variabel independen (fitur) terhadap probabilitas terjadinya peristiwa dari variabel target. \n",
    "\n",
    "Jika koefisien positif, maka kenaikan nilai fitur akan meningkatkan probabilitas terjadinya peristiwa dari variabel target. Maka semakin tinggi nilai fitur, semakin besar kemungkinan peristiwa yang diamati terjadi. Ini bisa diartikan bahwa semakin besar nilai fitur, semakin besar probabilitas terjadinya peristiwa tersebut.\n",
    "\n",
    "Jika koefisien negatif, maka kenaikan nilai fitur akan mengurangi probabilitas terjadinya peristiwa dari variabel target. Semakin tinggi nilai fitur, semakin kecil kemungkinan peristiwa yang diamati terjadi. Ini bisa diartikan bahwa semakin besar nilai fitur, semakin kecil probabilitas terjadinya peristiwa tersebut. "
   ]
  },
  {
   "cell_type": "markdown",
   "id": "9fc43505",
   "metadata": {},
   "source": [
    "#### Odds Ratio"
   ]
  },
  {
   "cell_type": "code",
   "execution_count": 61,
   "id": "9a6a935c",
   "metadata": {},
   "outputs": [
    {
     "name": "stdout",
     "output_type": "stream",
     "text": [
      "[[ 1.00771045  0.88060468 41.8064086   8.50355867 19.78230426  0.64025916\n",
      "   0.49312689  0.48017845  1.01752168  1.82266568  0.79085956  0.23556669\n",
      "   0.20033754  1.5273234   0.36146892]]\n"
     ]
    }
   ],
   "source": [
    "# Calculate the odds ratios\n",
    "odds_ratios = np.exp(coefficients)\n",
    "\n",
    "# Print the odds ratios\n",
    "print(odds_ratios)"
   ]
  },
  {
   "cell_type": "code",
   "execution_count": 66,
   "id": "e7a0b853",
   "metadata": {},
   "outputs": [
    {
     "name": "stdout",
     "output_type": "stream",
     "text": [
      "                         Koefisien  Odds_Ratio  odds_ratios\n",
      "amt                       0.007681    1.007710     1.007710\n",
      "category_food_dining     -0.127146    0.880605     0.880605\n",
      "category_gas_transport    3.733050   41.806409    41.806409\n",
      "category_grocery_net      2.140485    8.503559     8.503559\n",
      "category_grocery_pos      2.984788   19.782304    19.782304\n",
      "category_health_fitness  -0.445882    0.640259     0.640259\n",
      "category_home            -0.706989    0.493127     0.493127\n",
      "category_kids_pets       -0.733597    0.480178     0.480178\n",
      "category_misc_net         0.017370    1.017522     1.017522\n",
      "category_misc_pos         0.600300    1.822666     1.822666\n",
      "category_personal_care   -0.234635    0.790860     0.790860\n",
      "category_shopping_net    -1.445761    0.235567     0.235567\n",
      "category_shopping_pos    -1.607752    0.200338     0.200338\n",
      "category_travel           0.423517    1.527323     1.527323\n",
      "gender_M                 -1.017579    0.361469     0.361469\n"
     ]
    }
   ],
   "source": [
    "koefisien_uts['Odds_Ratio'] = np.exp(koefisien_uts['Koefisien'])\n",
    "\n",
    "print(koefisien_uts)"
   ]
  },
  {
   "cell_type": "markdown",
   "id": "85d0d111",
   "metadata": {},
   "source": [
    "Odds Ratio adalah ukuran asosiasi paparan (faktor risiko) dengan kejadian. Output Odds Ratio menunjukkan seberapa besar pengaruh variabel independen terhadap variabel dependen. Jika nilai Odds Ratio lebih besar dari 1, maka variabel independen memiliki pengaruh positif terhadap variabel dependen. Sebaliknya, jika nilai Odds Ratio kurang dari 1, maka variabel independen memiliki pengaruh negatif terhadap variabel dependen. Jika nilai Odds Ratio sama dengan 1, maka tidak ada pengaruh antara variabel independen dan dependen. Dalam hal ini, variabel dependen adalah kolom 'is_fraud', dan variabel independennya adalah kolom 'category'."
   ]
  },
  {
   "cell_type": "markdown",
   "id": "42c59102",
   "metadata": {},
   "source": [
    "# Kesimpulan\n",
    "\n",
    "Berdasarkan hasil dari koefisien dan odds-ratio di atas, kita tahu bahwa variabel target atau peristiwa yang dimungkinkan terjadi adalah kejadian transaksi fraud. Berikut merupakan ringkasannya:\n",
    "\n",
    "### Koefisien\n",
    "\n",
    "a. Jika Koefisien positif, maka kenaikan nilai fitur (category) akan *memperbesar* kemungkinan terjadinya transaksi fraud\n",
    "\n",
    "b. Jika Koefisien negatif, maka kenaikan nilai fitur (category) justru akan *memperkecil* kemungkinan terjadinya transaksi fraud\n",
    "\n",
    "### Odds-Ratio\n",
    "\n",
    "a. Jika odds-ratio > 1, variabel independen berpengaruh positif terhadap variabel dependen\n",
    "\n",
    "b. Jika odds-ratio < 1, variabel independen berpengaruh negatif terhadap variabel dependen\n",
    "\n",
    "c. Jika odds-ratio = 1, tidak ada pengaruh antara variabel independen dan dependen\n",
    "\n",
    "## Hasil\n",
    "Melalui ketentuan di atas, dapat disimpulkan bahwa potensi terjadinya transaksi fraud ada pada category: gas_transport, grocery_net, grocery_pos, misc_net, misc_post, dan travel. \n",
    "\n",
    "Mengetahui hal ini, maka perusahaan perlu memberlakukan regulasi dan pengawasan yang lebih ketat terkait transaksi pada perusahaan agar probabilitas terjadinya fraud dapat semakin berkurang."
   ]
  },
  {
   "cell_type": "code",
   "execution_count": null,
   "id": "1b1ca7b6",
   "metadata": {},
   "outputs": [],
   "source": []
  }
 ],
 "metadata": {
  "kernelspec": {
   "display_name": "Python 3 (ipykernel)",
   "language": "python",
   "name": "python3"
  },
  "language_info": {
   "codemirror_mode": {
    "name": "ipython",
    "version": 3
   },
   "file_extension": ".py",
   "mimetype": "text/x-python",
   "name": "python",
   "nbconvert_exporter": "python",
   "pygments_lexer": "ipython3",
   "version": "3.10.9"
  }
 },
 "nbformat": 4,
 "nbformat_minor": 5
}
